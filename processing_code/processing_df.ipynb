{
 "cells": [
  {
   "cell_type": "code",
   "execution_count": 23,
   "metadata": {},
   "outputs": [],
   "source": [
    "from datetime import datetime\n",
    "def parse_time(timestamp):\n",
    "    \"\"\"\n",
    "    'YYYY-MM-DD HH:MM:SS AM/PM', 'YYYY-MM-DD HH:MM:SS', 또는 'YYYY-MM-DD HH:MM' 형식을 파싱하는 함수\n",
    "    \"\"\"\n",
    "    timestamp = timestamp.split('.')[0]\n",
    "    try:\n",
    "        # 먼저 24시간 형식으로 파싱 시도\n",
    "        return datetime.strptime(timestamp, '%Y-%m-%d %H:%M:%S')\n",
    "    except ValueError:\n",
    "        try:\n",
    "            # 실패하면 12시간 형식으로 파싱 시도\n",
    "            return datetime.strptime(timestamp, '%Y-%m-%d %I:%M:%S %p')\n",
    "        except ValueError:\n",
    "            # 실패하면 'YYYY-MM-DD HH:MM' 형식으로 파싱 시도\n",
    "            return datetime.strptime(timestamp, '%Y-%m-%d %H:%M')"
   ]
  },
  {
   "cell_type": "code",
   "execution_count": 24,
   "metadata": {},
   "outputs": [],
   "source": [
    "import pandas as pd\n",
    "bus_df = pd.read_csv(\"13_bus_down2.csv\")\n",
    "bus_df['Parsed_Date'] = bus_df['Parsed_Date'].apply(parse_time)"
   ]
  },
  {
   "cell_type": "code",
   "execution_count": 17,
   "metadata": {},
   "outputs": [
    {
     "data": {
      "text/plain": [
       "162582"
      ]
     },
     "execution_count": 17,
     "metadata": {},
     "output_type": "execute_result"
    }
   ],
   "source": [
    "len(bus_df)"
   ]
  },
  {
   "cell_type": "code",
   "execution_count": 18,
   "metadata": {},
   "outputs": [
    {
     "name": "stdout",
     "output_type": "stream",
     "text": [
      "조건을 만족하는 시퀀스 개수: 3211\n"
     ]
    },
    {
     "name": "stderr",
     "output_type": "stream",
     "text": [
      "/tmp/ipykernel_1036637/1225565462.py:22: DeprecationWarning: DataFrameGroupBy.apply operated on the grouping columns. This behavior is deprecated, and in a future version of pandas the grouping columns will be excluded from the operation. Either pass `include_groups=False` to exclude the groupings or explicitly select the grouping columns after groupby to silence this warning.\n",
      "  df = df.groupby('MASK_SELECTED', group_keys=False).apply(flag_outliers)\n"
     ]
    }
   ],
   "source": [
    "import pandas as pd\n",
    "import matplotlib.pyplot as plt\n",
    "\n",
    "# CSV 파일 읽기 (파일 경로 수정 필요)\n",
    "df = pd.read_csv('13_bus_down2.csv')\n",
    "#bus_df['Parsed_Date'] = bus_df['Parsed_Date'].apply(parse_time)\n",
    "\n",
    "# 새로운 시퀀스 번호를 생성 (MASK_SELECTED == 1일 때마다 시퀀스 ID 증가)\n",
    "df['sequence_id'] = (df['MASK_SELECTED'] == 29).cumsum() - 1\n",
    "\n",
    "# 함수 정의: 각 그룹에서 아웃라이어를 찾고 플래그 지정\n",
    "def flag_outliers(group):\n",
    "    Q1 = group['travel_time'].quantile(0.2)\n",
    "    Q3 = group['travel_time'].quantile(0.8)\n",
    "    IQR = Q3 - Q1\n",
    "    lower_bound = Q1 - 1.5 * IQR\n",
    "    upper_bound = Q3 + 1.5 * IQR\n",
    "    group['outlier'] = (group['travel_time'] < lower_bound) | (group['travel_time'] > upper_bound)\n",
    "    return group\n",
    "\n",
    "# MASK_SELECTED 기준으로 그룹화하여 아웃라이어 플래그 지정\n",
    "df = df.groupby('MASK_SELECTED', group_keys=False).apply(flag_outliers)\n",
    "\n",
    "# 200초 이상인 아웃라이어를 포함한 시퀀스 제거\n",
    "sequences_with_outliers = df[df['outlier'] & (df['travel_time'] > 200)]['sequence_id'].unique()\n",
    "filtered_df = df[~df['sequence_id'].isin(sequences_with_outliers)]\n",
    "\n",
    "# 560초 이상 값이 포함된 시퀀스 제거\n",
    "sequences_with_high_travel_time = df[df['travel_time'] > 420]['sequence_id'].unique()\n",
    "filtered_df = filtered_df[~filtered_df['sequence_id'].isin(sequences_with_high_travel_time)]\n",
    "\n",
    "# 조건을 만족하는 시퀀스 개수 출력\n",
    "filtered_num_sequences = filtered_df['sequence_id'].nunique()\n",
    "print(f\"조건을 만족하는 시퀀스 개수: {filtered_num_sequences}\")\n",
    "\n",
    "# sequence_id 열 제거 (결과 보기 깔끔하게)\n",
    "filtered_df = filtered_df.drop(columns=['sequence_id', 'outlier'])\n"
   ]
  },
  {
   "cell_type": "code",
   "execution_count": 71,
   "metadata": {},
   "outputs": [],
   "source": [
    "filtered_df = filtered_df[(filtered_df['MASK_SELECTED'] >= 29) & (filtered_df['MASK_SELECTED'] <= 43)]"
   ]
  },
  {
   "cell_type": "code",
   "execution_count": 72,
   "metadata": {},
   "outputs": [],
   "source": [
    "filtered_df.to_csv('test.csv', index = False)"
   ]
  },
  {
   "cell_type": "code",
   "execution_count": 19,
   "metadata": {},
   "outputs": [],
   "source": [
    "bus_df = filtered_df"
   ]
  },
  {
   "cell_type": "code",
   "execution_count": 20,
   "metadata": {},
   "outputs": [
    {
     "name": "stdout",
     "output_type": "stream",
     "text": [
      "총 시퀀스 개수: 3211\n",
      "조건을 만족하는 시퀀스 개수: 2251\n",
      "        MASK_SELECTED Information_Occurrence  BUS_ROUTE  STOP_ORD STOP_NAME  \\\n",
      "0                  29    2020-02-01 06:45:59         13         1     천안아산역   \n",
      "1                  30    2020-02-01 06:48:46         13         2      호수공원   \n",
      "2                  31    2020-02-01 06:50:27         13         3       아산역   \n",
      "3                  32    2020-02-01 06:51:20         13         4    한국표준협회   \n",
      "4                  33    2020-02-01 06:51:49         13         5  장재마을11단지   \n",
      "...               ...                    ...        ...       ...       ...   \n",
      "118112             53    2020-08-31 22:02:25         13        25   대림한숲아파트   \n",
      "118113             54    2020-08-31 22:04:53         13        26    천안톨게이트   \n",
      "118114             55    2020-08-31 22:06:03         13        27     상명대학교   \n",
      "118115             56    2020-08-31 22:06:38         13        28   단국대치대병원   \n",
      "118116             57    2020-08-31 22:07:17         13        29      단대병원   \n",
      "\n",
      "          STOP_ID  Bus_num          Parsed_Date  original_index  up_down  ...  \\\n",
      "0       288002022     1295  2020-02-01 06:45:59              28        0  ...   \n",
      "1       288002048     1295  2020-02-01 06:48:46              29        1  ...   \n",
      "2       288002219     1295  2020-02-01 06:50:27              30        1  ...   \n",
      "3       288002054     1295  2020-02-01 06:51:20              31        1  ...   \n",
      "4       288002056     1295  2020-02-01 06:51:49              32        1  ...   \n",
      "...           ...      ...                  ...             ...      ...  ...   \n",
      "118112  285000706     1729  2020-08-31 22:02:25          232156        1  ...   \n",
      "118113  285000643     1729  2020-08-31 22:04:53          232157        1  ...   \n",
      "118114  285001052     1729  2020-08-31 22:06:03          232158        1  ...   \n",
      "118115  285001595     1729  2020-08-31 22:06:38          232159        1  ...   \n",
      "118116  285001715     1729  2020-08-31 22:07:17          232160        1  ...   \n",
      "\n",
      "              Date  기온(℃)  상대습도(%) 풍향(16방위) 풍속(m/s)  기온(℃)_8th  상대습도(%)_8th  \\\n",
      "0       2020-02-01   25.4     78.1     93.0     0.8        0.0          0.0   \n",
      "1       2020-02-01   25.4     78.1     93.0     0.8        0.0          0.0   \n",
      "2       2020-02-01   25.4     78.1     93.0     0.8        0.0          0.0   \n",
      "3       2020-02-01   25.4     78.1     93.0     0.8        0.0          0.0   \n",
      "4       2020-02-01   25.4     78.1     93.0     0.8        0.0          0.0   \n",
      "...            ...    ...      ...      ...     ...        ...          ...   \n",
      "118112  2020-08-31   25.4     78.1     93.0     0.8        0.0          0.0   \n",
      "118113  2020-08-31   25.4     78.1     93.0     0.8        0.0          0.0   \n",
      "118114  2020-08-31   25.4     78.1     93.0     0.8        0.0          0.0   \n",
      "118115  2020-08-31   25.4     78.1     93.0     0.8        0.0          0.0   \n",
      "118116  2020-08-31   25.4     78.1     93.0     0.8        0.0          0.0   \n",
      "\n",
      "        풍향(16방위)_8th  풍속(m/s)_8th  travel_time  \n",
      "0                0.0          0.0          0.0  \n",
      "1                0.0          0.0        167.0  \n",
      "2                0.0          0.0        101.0  \n",
      "3                0.0          0.0         53.0  \n",
      "4                0.0          0.0         29.0  \n",
      "...              ...          ...          ...  \n",
      "118112           0.0          0.0         39.0  \n",
      "118113           0.0          0.0        148.0  \n",
      "118114           0.0          0.0         70.0  \n",
      "118115           0.0          0.0         35.0  \n",
      "118116           0.0          0.0         39.0  \n",
      "\n",
      "[65279 rows x 24 columns]\n"
     ]
    }
   ],
   "source": [
    "import numpy as np\n",
    "\n",
    "# 새로운 시퀀스 번호를 생성하기 위해 누적 카운트를 사용하여 그룹화\n",
    "bus_df['sequence_id'] = (bus_df['MASK_SELECTED'] == 29).cumsum() - 1  # 1일 때마다 시퀀스 ID 증가\n",
    "\n",
    "# 시퀀스 개수 확인\n",
    "num_sequences = bus_df['sequence_id'].nunique()\n",
    "\n",
    "print(f\"총 시퀀스 개수: {num_sequences}\")\n",
    "\n",
    "# travel_time이 360 이상인 시퀀스를 제거\n",
    "filtered_bus_df = bus_df.groupby('sequence_id').filter(lambda x: x['travel_time'].max() <= 300)\n",
    "\n",
    "# 조건을 만족하는 시퀀스 개수 확인\n",
    "filtered_num_sequences = filtered_bus_df['sequence_id'].nunique()\n",
    "print(f\"조건을 만족하는 시퀀스 개수: {filtered_num_sequences}\")\n",
    "\n",
    "# sequence_id 열 삭제 (결과만 깔끔하게 보기 위해)\n",
    "filtered_bus_df = filtered_bus_df.drop(columns='sequence_id')\n",
    "\n",
    "# 결과 출력\n",
    "print(filtered_bus_df)\n"
   ]
  },
  {
   "cell_type": "code",
   "execution_count": 21,
   "metadata": {},
   "outputs": [],
   "source": [
    "df = filtered_bus_df"
   ]
  },
  {
   "cell_type": "code",
   "execution_count": 12,
   "metadata": {},
   "outputs": [
    {
     "name": "stdout",
     "output_type": "stream",
     "text": [
      "조건을 만족하는 시퀀스 개수: 3198\n"
     ]
    },
    {
     "name": "stderr",
     "output_type": "stream",
     "text": [
      "/tmp/ipykernel_1036637/3416309975.py:15: DeprecationWarning: DataFrameGroupBy.apply operated on the grouping columns. This behavior is deprecated, and in a future version of pandas the grouping columns will be excluded from the operation. Either pass `include_groups=False` to exclude the groupings or explicitly select the grouping columns after groupby to silence this warning.\n",
      "  df = df.groupby('MASK_SELECTED', group_keys=False).apply(flag_outliers)\n"
     ]
    }
   ],
   "source": [
    "# 새로운 시퀀스 번호를 생성 (MASK_SELECTED == 1일 때마다 시퀀스 ID 증가)\n",
    "df['sequence_id'] = (df['MASK_SELECTED'] == 29).cumsum() - 1\n",
    "\n",
    "# 함수 정의: 각 그룹에서 아웃라이어를 찾고 플래그 지정\n",
    "def flag_outliers(group):\n",
    "    Q1 = group['travel_time'].quantile(0.2)\n",
    "    Q3 = group['travel_time'].quantile(0.8)\n",
    "    IQR = Q3 - Q1\n",
    "    lower_bound = Q1 - 1.5 * IQR\n",
    "    upper_bound = Q3 + 1.5 * IQR\n",
    "    group['outlier'] = (group['travel_time'] < lower_bound) | (group['travel_time'] > upper_bound)\n",
    "    return group\n",
    "\n",
    "# MASK_SELECTED 기준으로 그룹화하여 아웃라이어 플래그 지정\n",
    "df = df.groupby('MASK_SELECTED', group_keys=False).apply(flag_outliers)\n",
    "\n",
    "# 200초 이상인 아웃라이어를 포함한 시퀀스 제거\n",
    "sequences_with_outliers = df[df['outlier'] & (df['travel_time'] > 200)]['sequence_id'].unique()\n",
    "filtered_df = df[~df['sequence_id'].isin(sequences_with_outliers)]\n",
    "\n",
    "# 560초 이상 값이 포함된 시퀀스 제거\n",
    "sequences_with_high_travel_time = df[df['travel_time'] > 420]['sequence_id'].unique()\n",
    "filtered_df = filtered_df[~filtered_df['sequence_id'].isin(sequences_with_high_travel_time)]\n",
    "\n",
    "# 조건을 만족하는 시퀀스 개수 출력\n",
    "filtered_num_sequences = filtered_df['sequence_id'].nunique()\n",
    "print(f\"조건을 만족하는 시퀀스 개수: {filtered_num_sequences}\")\n",
    "\n",
    "# sequence_id 열 제거 (결과 보기 깔끔하게)\n",
    "filtered_df = filtered_df.drop(columns=['sequence_id', 'outlier'])\n"
   ]
  },
  {
   "cell_type": "code",
   "execution_count": 22,
   "metadata": {},
   "outputs": [],
   "source": [
    "filtered_bus_df.to_csv('../test_ll.csv', index = False)"
   ]
  },
  {
   "cell_type": "code",
   "execution_count": 76,
   "metadata": {},
   "outputs": [],
   "source": [
    "filtered_df = filtered_bus_df[(filtered_bus_df['MASK_SELECTED'] >= 29) & (filtered_bus_df['MASK_SELECTED'] <= 43)]"
   ]
  },
  {
   "cell_type": "code",
   "execution_count": 77,
   "metadata": {},
   "outputs": [],
   "source": [
    "filtered_df.to_csv('test.csv')"
   ]
  },
  {
   "cell_type": "code",
   "execution_count": 87,
   "metadata": {},
   "outputs": [
    {
     "name": "stdout",
     "output_type": "stream",
     "text": [
      "       MASK_SELECTED        LAT         LNG    STOP_ID          Parsed_Date  \\\n",
      "0                 29  36.793599  127.103951  288002022  2020-02-01 06:45:59   \n",
      "1                 30  36.793720  127.101300  288002048  2020-02-01 06:48:46   \n",
      "2                 31  36.791477  127.103512  288002219  2020-02-01 06:50:27   \n",
      "3                 32  36.791046  127.107846  288002054  2020-02-01 06:51:20   \n",
      "4                 33  36.786500  127.108700  288002056  2020-02-01 06:51:49   \n",
      "...              ...        ...         ...        ...                  ...   \n",
      "10029             53  36.819375  127.159581  285000706  2020-02-12 14:31:26   \n",
      "10030             54  36.828264  127.167573  285000643  2020-02-12 14:36:50   \n",
      "10031             55  36.834304  127.173970  285001052  2020-02-12 14:37:57   \n",
      "10032             56  36.837034  127.174293  285001595  2020-02-12 14:38:18   \n",
      "10033             57  36.841241  127.174408  285001715  2020-02-12 14:40:42   \n",
      "\n",
      "       up_down  temperature  Relative_Humidity  is_weekend   day_name  \\\n",
      "0            0         25.4               78.1        True   Saturday   \n",
      "1            1         25.4               78.1        True   Saturday   \n",
      "2            1         25.4               78.1        True   Saturday   \n",
      "3            1         25.4               78.1        True   Saturday   \n",
      "4            1         25.4               78.1        True   Saturday   \n",
      "...        ...          ...                ...         ...        ...   \n",
      "10029        1         25.4               78.1       False  Wednesday   \n",
      "10030        1         25.4               78.1       False  Wednesday   \n",
      "10031        1         25.4               78.1       False  Wednesday   \n",
      "10032        1         25.4               78.1       False  Wednesday   \n",
      "10033        1         25.4               78.1       False  Wednesday   \n",
      "\n",
      "       previous  wind_d  wind_s  Bus_num     prev_arrive_time  \\\n",
      "0          87.0    93.0     0.8     1295  2020-02-01 06:42:38   \n",
      "1         697.0    93.0     0.8     1295  2020-02-01 06:45:59   \n",
      "2         420.0    93.0     0.8     1295  2020-02-01 06:48:46   \n",
      "3         501.0    93.0     0.8     1295  2020-02-01 06:50:27   \n",
      "4         506.0    93.0     0.8     1295  2020-02-01 06:51:20   \n",
      "...         ...     ...     ...      ...                  ...   \n",
      "10029     359.0    93.0     0.8     1318  2020-02-12 14:29:59   \n",
      "10030    1340.0    93.0     0.8     1318  2020-02-12 14:31:26   \n",
      "10031     910.0    93.0     0.8     1318  2020-02-12 14:36:50   \n",
      "10032     307.0    93.0     0.8     1318  2020-02-12 14:37:57   \n",
      "10033     486.0    93.0     0.8     1318  2020-02-12 14:38:18   \n",
      "\n",
      "                start_time  travel_time  \n",
      "0      2020-02-01 05:59:53          0.0  \n",
      "1      2020-02-01 05:59:53        167.0  \n",
      "2      2020-02-01 05:59:53        101.0  \n",
      "3      2020-02-01 05:59:53         53.0  \n",
      "4      2020-02-01 05:59:53         29.0  \n",
      "...                    ...          ...  \n",
      "10029  2020-02-01 05:59:53         87.0  \n",
      "10030  2020-02-01 05:59:53        324.0  \n",
      "10031  2020-02-01 05:59:53         67.0  \n",
      "10032  2020-02-01 05:59:53         21.0  \n",
      "10033  2020-02-01 05:59:53        144.0  \n",
      "\n",
      "[8700 rows x 17 columns]\n"
     ]
    }
   ],
   "source": [
    "filtered_df['sequence_id'] = (filtered_df['MASK_SELECTED'] == 29).cumsum() - 1\n",
    "# 400개의 시퀀스만 선택\n",
    "selected_sequences = (\n",
    "    filtered_df[filtered_df['sequence_id'].isin(range(300))]\n",
    ")\n",
    "\n",
    "# sequence_id 열 삭제 (결과만 깔끔하게 보기 위해)\n",
    "selected_sequences = selected_sequences.drop(columns='sequence_id')\n",
    "\n",
    "# 결과 출력\n",
    "print(selected_sequences)\n"
   ]
  },
  {
   "cell_type": "code",
   "execution_count": 88,
   "metadata": {},
   "outputs": [],
   "source": [
    "selected_sequences.to_csv('test_s.csv', index = False)"
   ]
  },
  {
   "cell_type": "code",
   "execution_count": null,
   "metadata": {},
   "outputs": [],
   "source": []
  }
 ],
 "metadata": {
  "kernelspec": {
   "display_name": "bus_prediction",
   "language": "python",
   "name": "python3"
  },
  "language_info": {
   "codemirror_mode": {
    "name": "ipython",
    "version": 3
   },
   "file_extension": ".py",
   "mimetype": "text/x-python",
   "name": "python",
   "nbconvert_exporter": "python",
   "pygments_lexer": "ipython3",
   "version": "3.10.15"
  }
 },
 "nbformat": 4,
 "nbformat_minor": 2
}
